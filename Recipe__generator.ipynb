{
  "nbformat": 4,
  "nbformat_minor": 0,
  "metadata": {
    "colab": {
      "provenance": [],
      "gpuType": "T4"
    },
    "kernelspec": {
      "name": "python3",
      "display_name": "Python 3"
    },
    "language_info": {
      "name": "python"
    },
    "accelerator": "GPU"
  },
  "cells": [
    {
      "cell_type": "code",
      "execution_count": null,
      "metadata": {
        "colab": {
          "base_uri": "https://localhost:8080/"
        },
        "id": "eus-bJjo7g3-",
        "outputId": "140e5e7e-2c88-42d4-db5b-6cafc74a40f3"
      },
      "outputs": [
        {
          "output_type": "stream",
          "name": "stdout",
          "text": [
            "✅ spaCy and 'en_core_web_md' installed successfully!\n"
          ]
        }
      ],
      "source": [
        "import subprocess\n",
        "import sys\n",
        "\n",
        "def install_packages():\n",
        "    \"\"\"Install spaCy and download the language model.\"\"\"\n",
        "    try:\n",
        "        # Install spaCy\n",
        "        subprocess.check_call([sys.executable, \"-m\", \"pip\", \"install\", \"spacy\"])\n",
        "\n",
        "        # Download spaCy language model\n",
        "        subprocess.check_call([sys.executable, \"-m\", \"spacy\", \"download\", \"en_core_web_md\"])\n",
        "\n",
        "        print(\"✅ spaCy and 'en_core_web_md' installed successfully!\")\n",
        "\n",
        "    except Exception as e:\n",
        "        print(f\"❌ Installation failed: {e}\")\n",
        "\n",
        "# Run the function\n",
        "install_packages()\n"
      ]
    },
    {
      "cell_type": "code",
      "source": [
        "import spacy\n",
        "import random\n",
        "\n",
        "# Load spaCy NLP model\n",
        "nlp = spacy.load(\"en_core_web_md\")\n",
        "\n",
        "# Recipe dataset with ingredients and calories\n",
        "recipes = {\n",
        "    \"pasta\": {\"ingredients\": [\"pasta\", \"tomato sauce\", \"cheese\"], \"recipe\": \"Boil pasta, add sauce, and cook for 10 minutes.\", \"calories\": 350},\n",
        "    \"chicken curry\": {\"ingredients\": [\"chicken\", \"onions\", \"spices\"], \"recipe\": \"Marinate chicken, sauté onions, add spices, and simmer.\", \"calories\": 450},\n",
        "    \"pancake\": {\"ingredients\": [\"flour\", \"eggs\", \"milk\"], \"recipe\": \"Mix flour, eggs, and milk, then fry.\", \"calories\": 300},\n",
        "    \"biryani\": {\"ingredients\": [\"rice\", \"chicken\", \"spices\"], \"recipe\": \"Layer rice and meat with spices, then cook on low heat.\", \"calories\": 500},\n",
        "    \"chocolate cake\": {\"ingredients\": [\"cocoa\", \"flour\", \"sugar\", \"eggs\"], \"recipe\": \"Mix cocoa, flour, sugar, and eggs, then bake.\", \"calories\": 400},\n",
        "    \"fried rice\": {\"ingredients\": [\"rice\", \"vegetables\", \"soy sauce\"], \"recipe\": \"Stir-fry rice with vegetables, soy sauce, and protein of choice.\", \"calories\": 320},\n",
        "    \"omelette\": {\"ingredients\": [\"eggs\", \"cheese\", \"salt\"], \"recipe\": \"Beat eggs, add salt and pepper, then cook in a pan.\", \"calories\": 250},\n",
        "    \"burger\": {\"ingredients\": [\"bun\", \"beef patty\", \"lettuce\", \"cheese\"], \"recipe\": \"Grill the patty, place in a bun with lettuce, cheese, and sauce.\", \"calories\": 550},\n",
        "    \"tacos\": {\"ingredients\": [\"taco shells\", \"meat\", \"salsa\"], \"recipe\": \"Fill taco shells with seasoned meat, salsa, and cheese.\", \"calories\": 380},\n",
        "    \"sushi\": {\"ingredients\": [\"rice\", \"fish\", \"seaweed\"], \"recipe\": \"Roll rice and fish in seaweed, then slice into pieces.\", \"calories\": 300},\n",
        "    \"pizza\": {\"ingredients\": [\"dough\", \"tomato sauce\", \"cheese\"], \"recipe\": \"Spread sauce on dough, add toppings, and bake until crispy.\", \"calories\": 600},\n",
        "}\n",
        "\n",
        "# Accuracy tracking variables\n",
        "total_queries = 0\n",
        "correct_detections = 0\n",
        "correct_suggestions = 0\n",
        "\n",
        "def extract_food(text):\n",
        "    \"\"\"Extract multiple food items from user input using spaCy.\"\"\"\n",
        "    doc = nlp(text)\n",
        "    found_foods = [token.text.lower() for token in doc if token.text.lower() in recipes]\n",
        "    return list(set(found_foods))  # Remove duplicates\n",
        "\n",
        "def find_recipe_by_ingredients(ingredients):\n",
        "    \"\"\"Find recipes that use given ingredients.\"\"\"\n",
        "    matches = []\n",
        "    for recipe_name, details in recipes.items():\n",
        "        if any(ingredient in details[\"ingredients\"] for ingredient in ingredients):\n",
        "            matches.append(recipe_name)\n",
        "    return matches\n",
        "\n",
        "def get_recipe():\n",
        "    \"\"\"Chat loop for the recipe generator.\"\"\"\n",
        "    global total_queries, correct_detections, correct_suggestions\n",
        "\n",
        "    print(\"\\n🍽️ Recipe Bot: Ask me for a recipe (e.g., 'How do I make pasta?') or type 'exit' to stop.\")\n",
        "\n",
        "    while True:\n",
        "        user_input = input(\"\\nYou: \").strip().lower()\n",
        "        if user_input in [\"exit\", \"quit\"]:\n",
        "            print(\"\\n👋 Goodbye! Stay delicious!\")\n",
        "            break\n",
        "\n",
        "        total_queries += 1  # Count total user queries\n",
        "        food_list = extract_food(user_input)\n",
        "\n",
        "        if food_list:\n",
        "            correct_detections += 1  # Correct if a valid food item was found\n",
        "            for food in food_list:\n",
        "                print(f\"\\n🍴 Recipe for {food}: {recipes[food]['recipe']}\")\n",
        "                print(f\"📊 Estimated Calories: {recipes[food]['calories']} kcal per serving\")\n",
        "        else:\n",
        "            words = user_input.split()\n",
        "            suggested_recipes = find_recipe_by_ingredients(words)\n",
        "\n",
        "            if suggested_recipes:\n",
        "                correct_suggestions += 1  # Correct if a valid ingredient-based match was found\n",
        "                print(\"\\n🔍 Based on your ingredients, you can try these recipes:\")\n",
        "                for recipe in suggested_recipes:\n",
        "                    print(f\"✅ {recipe} - {recipes[recipe]['recipe']} (📊 {recipes[recipe]['calories']} kcal)\")\n",
        "            else:\n",
        "                random_recipe = random.choice(list(recipes.keys()))\n",
        "                print(f\"\\n🤔 I couldn't find an exact match. How about trying **{random_recipe}**?\")\n",
        "                print(f\"🍴 Recipe: {recipes[random_recipe]['recipe']}\")\n",
        "                print(f\"📊 Estimated Calories: {recipes[random_recipe]['calories']} kcal per serving\")\n",
        "\n",
        "        # Calculate accuracy and display after each query\n",
        "        accuracy_detection = (correct_detections / total_queries) * 100\n",
        "        accuracy_suggestions = (correct_suggestions / total_queries) * 100\n",
        "        print(f\"\\n📊 **Accuracy Metrics**:\")\n",
        "        print(f\"✔️ Food Detection Accuracy: {accuracy_detection:.2f}%\")\n",
        "        print(f\"✔️ Ingredient-Based Suggestion Accuracy: {accuracy_suggestions:.2f}%\")\n",
        "\n",
        "# Run the bot\n",
        "if __name__ == \"__main__\":\n",
        "    get_recipe()\n"
      ],
      "metadata": {
        "colab": {
          "base_uri": "https://localhost:8080/"
        },
        "id": "gmtQMySc72R8",
        "outputId": "4fed2e04-0d01-406e-8fa6-c0da70313702"
      },
      "execution_count": null,
      "outputs": [
        {
          "output_type": "stream",
          "name": "stdout",
          "text": [
            "\n",
            "🍽️ Recipe Bot: Ask me for a recipe (e.g., 'How do I make pasta?') or type 'exit' to stop.\n",
            "\n",
            "You: How do I make pizza?\n",
            "\n",
            "🍴 Recipe for pizza: Spread sauce on dough, add toppings, and bake until crispy.\n",
            "📊 Estimated Calories: 600 kcal per serving\n",
            "\n",
            "📊 **Accuracy Metrics**:\n",
            "✔️ Food Detection Accuracy: 100.00%\n",
            "✔️ Ingredient-Based Suggestion Accuracy: 0.00%\n"
          ]
        }
      ]
    },
    {
      "cell_type": "code",
      "source": [],
      "metadata": {
        "id": "gvXWEaOyLeOt"
      },
      "execution_count": null,
      "outputs": []
    }
  ]
}